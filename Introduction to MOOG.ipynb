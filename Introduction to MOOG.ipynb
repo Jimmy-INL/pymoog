{
 "cells": [
  {
   "cell_type": "markdown",
   "metadata": {},
   "source": [
    "# Introduction to MOOG\n",
    "\n",
    "> MOOG is a code that performs a variety of LTE line analysis and spectrum synthesis tasks. The typical use of MOOG is to assist in the determination of the chemical composition of a star.\n",
    "> -- from [MOOG website](http://www.as.utexas.edu/~chris/moog.html) by Chris Sneden\n",
    "\n",
    "\n",
    "Simply speaking, MOOG is a old fashion (Fortran) but effective code to ceate normalized stellar synthetic spectra.\n",
    "By comparing the synthetic spectra with observed one, we can determine the stellar parameters (effective temperature, surface gravity and metallicity) and abundance ratios (e.g., \\[Mg/Fe\\], \\[Al/Fe\\] and \\[Si/Fe\\]) of a star because we know these parameters of synthetic spectra.\n",
    "\n",
    "![](demo_sun/spectra.png)\n",
    "** Figure of solar synthetic spectra and observed spectra **\n",
    "\n",
    "However, it is not so easy to use MOOG with the following reasons:\n",
    "- It is written in Fortran, an old programm lagnuage with strict format, which means it is not as flexiable as python;\n",
    "- It requires a commerical plotting module, SuperMongo to be installed in the machine, which is not open source;\n",
    "- The calculation requires external information, i.e., **a stellar atmosphere model and a line list **.\n",
    "\n",
    "As a result, it is necessary to construct a python wrapper for MOOG to make it more simple to use.\n",
    "Actually some large scale stellar survey (such as SDSS/APOGEE) also use MOOG to determine stellar parameters and they have their own version of MOOG, but there is only [one attempt](https://github.com/andycasey/moog) for simplify the install process of MOOG by Andy Casey.\n",
    "\n",
    "## Package goal\n",
    "\n",
    "Our pymoog package is aiming to make the use of MOOG more easily. \n",
    "With a time of a week we will only go for the `SYNTH` driver - the most fundamental driver for creating the synthetic sectra.\n",
    "\n",
    "Example (only for reference):\n",
    "```py\n",
    "spec = pymoog.synth(Teff=5000, logg=4.0, m_h=-0.5, wavelength_range=[9500, 9550])\n",
    "spec.create_synth_spectra()\n",
    "\n",
    "print(spec.synth_spec_wav, spec.synth_spec_flux)\n",
    ">>> np.array([9500, 9501, 9502, ... , 9550]), np.array([1.0, 1.0, 0.9, ... , 1.0])\n",
    "\n",
    "```\n",
    "\n",
    "## To dos\n",
    "\n",
    "1. Install MOOG automatically.\n",
    "1. Prepare a model file accoring to the specified stellar parameters (Teff, logg and m_h)\n",
    "    - This can be done with the help of other packages; there is a package provide the download of some models.\n",
    "    - The whole set of atmosphere model is in GB level, so it may not be precticle to store all the models in the package. \n",
    "2. Prepare a line list according to the specified wavelength_range.\n",
    "3. Construct the control file (`batch.par`)\n",
    "4. Feed MOOG with the files mentioned above\n",
    "5. Extract the output of moog and plot the synthetic spectra in python. \n",
    "\n",
    "The standard format of atmosphere model, line list and `batch.par` is described in the [documetation of MOOG](http://www.as.utexas.edu/~chris/codes/WRITEnov2019.pdf), and we will constrict these files based on this documation.\n",
    "\n",
    "\n",
    "\n",
    "## Things done\n",
    "\n",
    "We are not starting from nothing when creating synthetic spectra. \n",
    "There are lots of stellar atmosphere model atlas available, such as those from [Kurucz](http://kurucz.harvard.edu/grids.html) and [MARCS](https://marcs.astro.uu.se/). \n",
    "These are pre-calculated models, so we only need to dwonload the right one and that's all.\n",
    "For simplicity I suggest we only focus on one type of model (maybe Kurucz)\n",
    "The situation for line list is similar, with many choices available. \n",
    "The one I am most familiar with is the [Vienna Atomic Line Database](http://vald.astro.uu.se/~vald/php/vald.php) (VALD).\n",
    "It can be used after some simple format or unit convertion.\n",
    "For the code of MOOG itself, MJ have done some modification to remove its dependence on SuperMongo (see [this repo](https://github.com/MingjieJian/moog_nosm)).\n",
    "Also see the codes for using MOOG in `moog.py`; they works **but only work in MJ's working environment**, so large amount of modification needed to perform.\n"
   ]
  },
  {
   "cell_type": "code",
   "execution_count": null,
   "metadata": {
    "collapsed": true
   },
   "outputs": [],
   "source": []
  }
 ],
 "metadata": {
  "anaconda-cloud": {},
  "kernelspec": {
   "display_name": "Python [default]",
   "language": "python",
   "name": "python3"
  },
  "language_info": {
   "codemirror_mode": {
    "name": "ipython",
    "version": 3
   },
   "file_extension": ".py",
   "mimetype": "text/x-python",
   "name": "python",
   "nbconvert_exporter": "python",
   "pygments_lexer": "ipython3",
   "version": "3.5.4"
  }
 },
 "nbformat": 4,
 "nbformat_minor": 1
}