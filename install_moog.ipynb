{
 "cells": [
  {
   "cell_type": "code",
   "execution_count": 15,
   "metadata": {},
   "outputs": [],
   "source": [
    "import subprocess\n",
    "import os"
   ]
  },
  {
   "cell_type": "code",
   "execution_count": 22,
   "metadata": {},
   "outputs": [],
   "source": [
    "# Define MOOGMODELING_path. This path will store the code of moog and any other temporary files in the calculation.\n",
    "MOOGMODELING_path = '{}/.pymoog/'.format(os.environ['HOME'])\n",
    "\n",
    "# Create the folder according to MOOGMODELING_path; if the folder already exist then raise a Error\n",
    "if not(os.path.isdir(MOOGMODELING_path)):\n",
    "    os.mkdir(MOOGMODELING_path)\n",
    "else:\n",
    "    raise ValueError('The folder to store ')\n",
    "\n",
    "# Clone the moog_nosm repository\n",
    "\n",
    "a = subprocess.run(['git', 'clone', 'git@github.com:MingjieJian/moog_nosm.git', MOOGMODELING_path])\n",
    "\n"
   ]
  },
  {
   "cell_type": "code",
   "execution_count": 21,
   "metadata": {},
   "outputs": [
    {
     "output_type": "execute_result",
     "data": {
      "text/plain": "'/home/mingjie/.pymoog/'"
     },
     "metadata": {},
     "execution_count": 21
    }
   ],
   "source": [
    "MOOGMODELING_path"
   ]
  },
  {
   "cell_type": "code",
   "execution_count": 17,
   "metadata": {},
   "outputs": [
    {
     "output_type": "error",
     "ename": "AttributeError",
     "evalue": "module 'os' has no attribute 'ispath'",
     "traceback": [
      "\u001b[0;31m---------------------------------------------------------------------------\u001b[0m",
      "\u001b[0;31mAttributeError\u001b[0m                            Traceback (most recent call last)",
      "\u001b[0;32m<ipython-input-17-b8ea1a371446>\u001b[0m in \u001b[0;36m<module>\u001b[0;34m\u001b[0m\n\u001b[0;32m----> 1\u001b[0;31m \u001b[0mos\u001b[0m\u001b[0;34m.\u001b[0m\u001b[0mispath\u001b[0m\u001b[0;34m\u001b[0m\u001b[0;34m\u001b[0m\u001b[0m\n\u001b[0m",
      "\u001b[0;31mAttributeError\u001b[0m: module 'os' has no attribute 'ispath'"
     ]
    }
   ],
   "source": [
    "os.path.isdir()"
   ]
  },
  {
   "cell_type": "code",
   "execution_count": 13,
   "metadata": {},
   "outputs": [
    {
     "output_type": "execute_result",
     "data": {
      "text/plain": "CompletedProcess(args=['ls', '-l', '/dev/null'], returncode=0)"
     },
     "metadata": {},
     "execution_count": 13
    }
   ],
   "source": [
    "subprocess.run([\"ls\", \"-l\", \"/dev/null\"])"
   ]
  }
 ],
 "metadata": {
  "language_info": {
   "codemirror_mode": {
    "name": "ipython",
    "version": 3
   },
   "file_extension": ".py",
   "mimetype": "text/x-python",
   "name": "python",
   "nbconvert_exporter": "python",
   "pygments_lexer": "ipython3",
   "version": "3.8.3-final"
  },
  "orig_nbformat": 2,
  "kernelspec": {
   "name": "python38364bitcodeastrocondaad381002ea5f460c9d0003e64423a5c6",
   "display_name": "Python 3.8.3 64-bit ('codeastro': conda)"
  }
 },
 "nbformat": 4,
 "nbformat_minor": 2
}