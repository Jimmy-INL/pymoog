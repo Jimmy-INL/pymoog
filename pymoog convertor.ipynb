{
 "cells": [
  {
   "cell_type": "markdown",
   "metadata": {},
   "source": [
    "Convert MOOG to python, totally.\n",
    "\n",
    "To do:\n",
    "\n",
    "- eqlib\n",
    "- nearly\n",
    "- synspec "
   ]
  },
  {
   "cell_type": "markdown",
   "metadata": {},
   "source": [
    "## eqlib\n",
    "\n",
    "Solves the equations of molecular dissociative equilibrium. The equations can include neutral and ionized molecules and atoms. (MOOG Manual)\n",
    "\n",
    "- What is molecular dissociative equilibrium (MDE)?\n",
    "\n",
    "- What do we need to solve MDE?\n",
    "\n",
    "- What does this function need?\n",
    "\n",
    "- What does this function return?"
   ]
  },
  {
   "cell_type": "markdown",
   "metadata": {},
   "source": [
    "### Read the "
   ]
  },
  {
   "cell_type": "code",
   "execution_count": null,
   "metadata": {
    "collapsed": true
   },
   "outputs": [],
   "source": []
  }
 ],
 "metadata": {
  "anaconda-cloud": {},
  "kernelspec": {
   "display_name": "Python [default]",
   "language": "python",
   "name": "python3"
  },
  "language_info": {
   "codemirror_mode": {
    "name": "ipython",
    "version": 3
   },
   "file_extension": ".py",
   "mimetype": "text/x-python",
   "name": "python",
   "nbconvert_exporter": "python",
   "pygments_lexer": "ipython3",
   "version": "3.5.4"
  }
 },
 "nbformat": 4,
 "nbformat_minor": 1
}
